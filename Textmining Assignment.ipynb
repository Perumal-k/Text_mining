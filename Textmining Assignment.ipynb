{
 "cells": [
  {
   "cell_type": "markdown",
   "metadata": {},
   "source": [
    "# Text Mining Assignment"
   ]
  },
  {
   "cell_type": "markdown",
   "metadata": {},
   "source": [
    "### Objective:-\n",
    "###           Perform sentimental analysis on the Elon-must tweets"
   ]
  },
  {
   "cell_type": "code",
   "execution_count": 1,
   "metadata": {},
   "outputs": [],
   "source": [
    "# pip install textblob"
   ]
  },
  {
   "cell_type": "code",
   "execution_count": 2,
   "metadata": {},
   "outputs": [],
   "source": [
    "import pandas as pd\n",
    "import numpy as np\n",
    "import matplotlib.pyplot as plt\n",
    "import seaborn as sns\n",
    "sns.set_style('white')\n",
    "import nltk\n",
    "from nltk.corpus import stopwords\n",
    "from nltk import ngrams\n",
    "from nltk.tokenize import word_tokenize \n",
    "from textblob import TextBlob\n",
    "import wordcloud\n",
    "from wordcloud import WordCloud\n",
    "from nltk.stem import WordNetLemmatizer\n",
    "lematizer = WordNetLemmatizer()"
   ]
  },
  {
   "cell_type": "code",
   "execution_count": 3,
   "metadata": {},
   "outputs": [],
   "source": [
    "# Load the dataset and understand it\n",
    "tweets = pd.read_csv(\"Elon_musk.csv\",engine=\"python\")"
   ]
  },
  {
   "cell_type": "code",
   "execution_count": 4,
   "metadata": {},
   "outputs": [
    {
     "data": {
      "text/html": [
       "<div>\n",
       "<style scoped>\n",
       "    .dataframe tbody tr th:only-of-type {\n",
       "        vertical-align: middle;\n",
       "    }\n",
       "\n",
       "    .dataframe tbody tr th {\n",
       "        vertical-align: top;\n",
       "    }\n",
       "\n",
       "    .dataframe thead th {\n",
       "        text-align: right;\n",
       "    }\n",
       "</style>\n",
       "<table border=\"1\" class=\"dataframe\">\n",
       "  <thead>\n",
       "    <tr style=\"text-align: right;\">\n",
       "      <th></th>\n",
       "      <th>Unnamed: 0</th>\n",
       "      <th>Text</th>\n",
       "    </tr>\n",
       "  </thead>\n",
       "  <tbody>\n",
       "    <tr>\n",
       "      <th>0</th>\n",
       "      <td>1</td>\n",
       "      <td>@kunalb11 I’m an alien</td>\n",
       "    </tr>\n",
       "    <tr>\n",
       "      <th>1</th>\n",
       "      <td>2</td>\n",
       "      <td>@ID_AA_Carmack Ray tracing on Cyberpunk with H...</td>\n",
       "    </tr>\n",
       "    <tr>\n",
       "      <th>2</th>\n",
       "      <td>3</td>\n",
       "      <td>@joerogan @Spotify Great interview!</td>\n",
       "    </tr>\n",
       "  </tbody>\n",
       "</table>\n",
       "</div>"
      ],
      "text/plain": [
       "   Unnamed: 0                                               Text\n",
       "0           1                             @kunalb11 I’m an alien\n",
       "1           2  @ID_AA_Carmack Ray tracing on Cyberpunk with H...\n",
       "2           3                @joerogan @Spotify Great interview!"
      ]
     },
     "execution_count": 4,
     "metadata": {},
     "output_type": "execute_result"
    }
   ],
   "source": [
    "tweets.head(3)"
   ]
  },
  {
   "cell_type": "code",
   "execution_count": 5,
   "metadata": {},
   "outputs": [
    {
     "data": {
      "text/plain": [
       "1999"
      ]
     },
     "execution_count": 5,
     "metadata": {},
     "output_type": "execute_result"
    }
   ],
   "source": [
    "len(tweets.index)"
   ]
  },
  {
   "cell_type": "code",
   "execution_count": 6,
   "metadata": {},
   "outputs": [
    {
     "data": {
      "text/html": [
       "<div>\n",
       "<style scoped>\n",
       "    .dataframe tbody tr th:only-of-type {\n",
       "        vertical-align: middle;\n",
       "    }\n",
       "\n",
       "    .dataframe tbody tr th {\n",
       "        vertical-align: top;\n",
       "    }\n",
       "\n",
       "    .dataframe thead th {\n",
       "        text-align: right;\n",
       "    }\n",
       "</style>\n",
       "<table border=\"1\" class=\"dataframe\">\n",
       "  <thead>\n",
       "    <tr style=\"text-align: right;\">\n",
       "      <th></th>\n",
       "      <th>Unnamed: 0</th>\n",
       "      <th>Text</th>\n",
       "      <th>Tweets</th>\n",
       "    </tr>\n",
       "  </thead>\n",
       "  <tbody>\n",
       "    <tr>\n",
       "      <th>0</th>\n",
       "      <td>1</td>\n",
       "      <td>@kunalb11 I’m an alien</td>\n",
       "      <td>@kunalb11 I’m an alien</td>\n",
       "    </tr>\n",
       "    <tr>\n",
       "      <th>1</th>\n",
       "      <td>2</td>\n",
       "      <td>@ID_AA_Carmack Ray tracing on Cyberpunk with H...</td>\n",
       "      <td>@ID_AA_Carmack Ray tracing on Cyberpunk with H...</td>\n",
       "    </tr>\n",
       "    <tr>\n",
       "      <th>2</th>\n",
       "      <td>3</td>\n",
       "      <td>@joerogan @Spotify Great interview!</td>\n",
       "      <td>@joerogan @Spotify Great interview!</td>\n",
       "    </tr>\n",
       "  </tbody>\n",
       "</table>\n",
       "</div>"
      ],
      "text/plain": [
       "   Unnamed: 0                                               Text  \\\n",
       "0           1                             @kunalb11 I’m an alien   \n",
       "1           2  @ID_AA_Carmack Ray tracing on Cyberpunk with H...   \n",
       "2           3                @joerogan @Spotify Great interview!   \n",
       "\n",
       "                                              Tweets  \n",
       "0                             @kunalb11 I’m an alien  \n",
       "1  @ID_AA_Carmack Ray tracing on Cyberpunk with H...  \n",
       "2                @joerogan @Spotify Great interview!  "
      ]
     },
     "execution_count": 6,
     "metadata": {},
     "output_type": "execute_result"
    }
   ],
   "source": [
    "tweets[\"Tweets\"] = tweets[\"Text\"]\n",
    "tweets.head(3)"
   ]
  },
  {
   "cell_type": "code",
   "execution_count": 7,
   "metadata": {},
   "outputs": [
    {
     "name": "stderr",
     "output_type": "stream",
     "text": [
      "[nltk_data] Downloading package stopwords to\n",
      "[nltk_data]     C:\\Users\\Perumal\\AppData\\Roaming\\nltk_data...\n",
      "[nltk_data]   Package stopwords is already up-to-date!\n"
     ]
    },
    {
     "data": {
      "text/plain": [
       "True"
      ]
     },
     "execution_count": 7,
     "metadata": {},
     "output_type": "execute_result"
    }
   ],
   "source": [
    "from collections import Counter\n",
    "import nltk\n",
    "import string\n",
    "nltk.download('stopwords')"
   ]
  },
  {
   "cell_type": "code",
   "execution_count": 8,
   "metadata": {},
   "outputs": [],
   "source": [
    "stopwords = nltk.corpus.stopwords.words('english')\n",
    "# RegEx for stopwords\n",
    "RE_stopwords = r'\\b(?:{})\\b'.format('|'.join(stopwords))\n",
    "# replace '|'-->' ' and drop all stopwords\n",
    "words = (tweets.Tweets\n",
    "           .str.lower()\n",
    "           .replace([r'\\|', RE_stopwords], [' ', ''], regex=True)\n",
    "           .str.cat(sep=' ')\n",
    "           .split()\n",
    ")\n",
    "\n",
    "# generate DF out of Counter\n",
    "words_data = pd.DataFrame(Counter(words).most_common(300),\n",
    "                    columns=['Word', 'Frequency']).set_index('Word')"
   ]
  },
  {
   "cell_type": "code",
   "execution_count": 9,
   "metadata": {},
   "outputs": [
    {
     "data": {
      "text/html": [
       "<div>\n",
       "<style scoped>\n",
       "    .dataframe tbody tr th:only-of-type {\n",
       "        vertical-align: middle;\n",
       "    }\n",
       "\n",
       "    .dataframe tbody tr th {\n",
       "        vertical-align: top;\n",
       "    }\n",
       "\n",
       "    .dataframe thead th {\n",
       "        text-align: right;\n",
       "    }\n",
       "</style>\n",
       "<table border=\"1\" class=\"dataframe\">\n",
       "  <thead>\n",
       "    <tr style=\"text-align: right;\">\n",
       "      <th></th>\n",
       "      <th>Frequency</th>\n",
       "    </tr>\n",
       "    <tr>\n",
       "      <th>Word</th>\n",
       "      <th></th>\n",
       "    </tr>\n",
       "  </thead>\n",
       "  <tbody>\n",
       "    <tr>\n",
       "      <th>’</th>\n",
       "      <td>237</td>\n",
       "    </tr>\n",
       "    <tr>\n",
       "      <th>&amp;amp;</th>\n",
       "      <td>216</td>\n",
       "    </tr>\n",
       "    <tr>\n",
       "      <th>…</th>\n",
       "      <td>140</td>\n",
       "    </tr>\n",
       "    <tr>\n",
       "      <th>@erdayastronaut</th>\n",
       "      <td>140</td>\n",
       "    </tr>\n",
       "    <tr>\n",
       "      <th>@spacex</th>\n",
       "      <td>138</td>\n",
       "    </tr>\n",
       "    <tr>\n",
       "      <th>...</th>\n",
       "      <td>...</td>\n",
       "    </tr>\n",
       "    <tr>\n",
       "      <th>&lt;u+2192&gt;</th>\n",
       "      <td>7</td>\n",
       "    </tr>\n",
       "    <tr>\n",
       "      <th>progress</th>\n",
       "      <td>7</td>\n",
       "    </tr>\n",
       "    <tr>\n",
       "      <th>neuralink</th>\n",
       "      <td>7</td>\n",
       "    </tr>\n",
       "    <tr>\n",
       "      <th>close</th>\n",
       "      <td>7</td>\n",
       "    </tr>\n",
       "    <tr>\n",
       "      <th>20</th>\n",
       "      <td>7</td>\n",
       "    </tr>\n",
       "  </tbody>\n",
       "</table>\n",
       "<p>300 rows × 1 columns</p>\n",
       "</div>"
      ],
      "text/plain": [
       "                 Frequency\n",
       "Word                      \n",
       "’                      237\n",
       "&amp;                  216\n",
       "…                      140\n",
       "@erdayastronaut        140\n",
       "@spacex                138\n",
       "...                    ...\n",
       "<u+2192>                 7\n",
       "progress                 7\n",
       "neuralink                7\n",
       "close                    7\n",
       "20                       7\n",
       "\n",
       "[300 rows x 1 columns]"
      ]
     },
     "execution_count": 9,
     "metadata": {},
     "output_type": "execute_result"
    }
   ],
   "source": [
    "words_data"
   ]
  },
  {
   "cell_type": "code",
   "execution_count": 10,
   "metadata": {},
   "outputs": [
    {
     "name": "stderr",
     "output_type": "stream",
     "text": [
      "[nltk_data] Downloading package vader_lexicon to\n",
      "[nltk_data]     C:\\Users\\Perumal\\AppData\\Roaming\\nltk_data...\n",
      "[nltk_data]   Package vader_lexicon is already up-to-date!\n"
     ]
    }
   ],
   "source": [
    "import nltk\n",
    "from nltk.sentiment.vader import SentimentIntensityAnalyzer\n",
    "nltk.download('vader_lexicon')\n",
    "sid = SentimentIntensityAnalyzer()"
   ]
  },
  {
   "cell_type": "markdown",
   "metadata": {},
   "source": [
    "### We use the VADER Sentiment Analyzer in order to perform the sentiment analysis.\n",
    "\n",
    "### According to GeeksforGeeks, VADER (Valence Aware Dictionary and sEntiment Reasoner) is a lexicon and rule-based sentiment analysis tool that is specifically attuned to sentiments expressed in social media."
   ]
  },
  {
   "cell_type": "code",
   "execution_count": 11,
   "metadata": {
    "scrolled": true
   },
   "outputs": [
    {
     "name": "stderr",
     "output_type": "stream",
     "text": [
      "[nltk_data] Downloading package wordnet to\n",
      "[nltk_data]     C:\\Users\\Perumal\\AppData\\Roaming\\nltk_data...\n",
      "[nltk_data]   Package wordnet is already up-to-date!\n"
     ]
    },
    {
     "data": {
      "text/plain": [
       "True"
      ]
     },
     "execution_count": 11,
     "metadata": {},
     "output_type": "execute_result"
    }
   ],
   "source": [
    "nltk.download('wordnet')"
   ]
  },
  {
   "cell_type": "code",
   "execution_count": 12,
   "metadata": {
    "scrolled": true
   },
   "outputs": [
    {
     "data": {
      "text/plain": [
       "Text(0, 0.5, 'Count')"
      ]
     },
     "execution_count": 12,
     "metadata": {},
     "output_type": "execute_result"
    },
    {
     "data": {
      "image/png": "[encoded data removed]",
      "text/plain": [
       "<Figure size 864x576 with 1 Axes>"
      ]
     },
     "metadata": {},
     "output_type": "display_data"
    }
   ],
   "source": [
    "text_length = tweets[\"Tweets\"].dropna().map(lambda x: len(x))\n",
    "plt.figure(figsize=(12,8))\n",
    "text_length.loc[text_length < 1500].hist()\n",
    "plt.title(\"Distribution of text Length\")\n",
    "plt.xlabel(\"text length (Number of character)\")\n",
    "plt.ylabel('Count')"
   ]
  },
  {
   "cell_type": "code",
   "execution_count": 13,
   "metadata": {},
   "outputs": [],
   "source": [
    "## Cleaning the text input for betting understanding of Machine..##\n",
    "\n",
    "## Conterting all review into Lowercase..##\n",
    "tweets[\"Tweets\"] = tweets[\"Tweets\"].apply(lambda x: \" \".join(word.lower() for word in x.split()))"
   ]
  },
  {
   "cell_type": "code",
   "execution_count": 14,
   "metadata": {},
   "outputs": [],
   "source": [
    "# removing punctuation from review..\n",
    "import string\n",
    "tweets[\"Tweets\"]=tweets[\"Tweets\"].apply(lambda x:''.join([i for i in x if i not in string.punctuation]))"
   ]
  },
  {
   "cell_type": "code",
   "execution_count": 15,
   "metadata": {},
   "outputs": [],
   "source": [
    "## Remove Numbers from tweets..##\n",
    "tweets[\"Tweets\"] = tweets[\"Tweets\"].str.replace('[0-9]','')"
   ]
  },
  {
   "cell_type": "code",
   "execution_count": 16,
   "metadata": {},
   "outputs": [
    {
     "name": "stderr",
     "output_type": "stream",
     "text": [
      "[nltk_data] Downloading package stopwords to\n",
      "[nltk_data]     C:\\Users\\Perumal\\AppData\\Roaming\\nltk_data...\n",
      "[nltk_data]   Package stopwords is already up-to-date!\n"
     ]
    },
    {
     "data": {
      "text/plain": [
       "True"
      ]
     },
     "execution_count": 16,
     "metadata": {},
     "output_type": "execute_result"
    }
   ],
   "source": [
    "from nltk.corpus import stopwords\n",
    "nltk.download('stopwords')\n",
    "# stopwords = pd.read_csv('/content/stop(1).txt')"
   ]
  },
  {
   "cell_type": "code",
   "execution_count": 17,
   "metadata": {},
   "outputs": [],
   "source": [
    "stop_words=stopwords.words('english')"
   ]
  },
  {
   "cell_type": "code",
   "execution_count": 18,
   "metadata": {
    "scrolled": true
   },
   "outputs": [],
   "source": [
    "tweets['Tweets'] = tweets[\"Tweets\"].apply(lambda x: \" \".join(word for word in x.split() if word not in stop_words))"
   ]
  },
  {
   "cell_type": "code",
   "execution_count": 19,
   "metadata": {},
   "outputs": [],
   "source": [
    "import re #regular expression\n",
    "import string\n",
    "'''Make text lowercase, remove text in square brackets, remove punctuation and remove words containing numbers.'''\n",
    "def clean_text(Tweets):\n",
    "    Tweets = Tweets.lower()\n",
    "    Tweets = re.sub('\\[.*?\\]', '', text)\n",
    "    data = re.sub('[%s]' % re.escape(string.punctuation), '', text)\n",
    "    Tweets = re.sub('\\w*\\d\\w*', '', text)\n",
    "    Tweets = re.sub('[0-9\" \"]+',' ',text)\n",
    "    Tweets = re.sub('[‘’“”…]', '', text)\n",
    "    \n",
    "    return Tweets\n",
    "\n",
    "clean = lambda x: clean_Tweets(x)"
   ]
  },
  {
   "cell_type": "code",
   "execution_count": 20,
   "metadata": {},
   "outputs": [
    {
     "name": "stderr",
     "output_type": "stream",
     "text": [
      "[nltk_data] Downloading package wordnet to\n",
      "[nltk_data]     C:\\Users\\Perumal\\AppData\\Roaming\\nltk_data...\n",
      "[nltk_data]   Package wordnet is already up-to-date!\n"
     ]
    },
    {
     "data": {
      "text/plain": [
       "True"
      ]
     },
     "execution_count": 20,
     "metadata": {},
     "output_type": "execute_result"
    }
   ],
   "source": [
    "nltk.download('wordnet')"
   ]
  },
  {
   "cell_type": "code",
   "execution_count": 21,
   "metadata": {},
   "outputs": [],
   "source": [
    "from textblob import Word\n",
    "tweets[\"Tweets\"]= tweets[\"Tweets\"].apply(lambda x: \" \".join([Word(word).lemmatize() for word in x.split()]))"
   ]
  },
  {
   "cell_type": "code",
   "execution_count": 22,
   "metadata": {},
   "outputs": [],
   "source": [
    "import re\n",
    "pattern = r\"((?<=^)|(?<= )).((?=$)|(?= ))\"\n",
    "tweets[\"Tweets\"]= tweets[\"Tweets\"].apply(lambda x:(re.sub(pattern, '',x).strip()))"
   ]
  },
  {
   "cell_type": "code",
   "execution_count": 23,
   "metadata": {},
   "outputs": [],
   "source": [
    "Tweets_set = tweets[\"Tweets\"]"
   ]
  },
  {
   "cell_type": "code",
   "execution_count": 24,
   "metadata": {},
   "outputs": [],
   "source": [
    "import sys\n",
    "\n",
    "def remove_emoji(Tweets_set):\n",
    "    emoji_pattern = re.compile(\"[\"\n",
    "                               u\"\\U0001F600-\\U0001F64F\" # emoticons\n",
    "                               u\"\\U0001F300-\\U0001F5FF\" # symbols & pictographs\n",
    "                               u\"\\U0001F680-\\U0001F6FF\" # transport & map symbols\n",
    "                               u\"\\U0001F1E0-\\U0001F1FF\" # flags (iOS)\n",
    "                               u\"\\U00002702-\\U000027B0\" \n",
    "                               u\"\\U000024C2-\\U0001F251\"\n",
    "                               \"]+\", flags = re.UNICODE)\n",
    "    return emoji_pattern.sub(r'', string)\n",
    "#text = remove_emoji(text_set)"
   ]
  },
  {
   "cell_type": "code",
   "execution_count": 25,
   "metadata": {},
   "outputs": [],
   "source": [
    "def remove_emoji(Tweets_set):\n",
    "    emoji_pattern = re.compile(\"[\"\n",
    "                               u\"\\U0001F600-\\U0001F64F\" # emoticons\n",
    "                               u\"\\U0001F300-\\U0001F5FF\" # symbols & pictographs\n",
    "                               u\"\\U0001F680-\\U0001F6FF\" # transport & map symbols\n",
    "                               u\"\\U0001F1E0-\\U0001F1FF\" # flags (iOS)\n",
    "                               u\"\\U00002500-\\U00002BEF\" # chinese char\n",
    "                               u\"\\U00002702-\\U000027B0\" \n",
    "                               u\"\\U000024C2-\\U0001F251\"\n",
    "                               u\"\\U0001f926-\\U0001f937\"\n",
    "                               u\"\\U00010000-\\U0010ffff\"\n",
    "                               u\"\\u2640-\\u2642\"\n",
    "                               u\"\\u2600-\\u2B55\"\n",
    "                               u\"\\u200d\"\n",
    "                               u\"\\u23cf\"\n",
    "                               u\"\\u23e9\"\n",
    "                               u\"\\u231a\"\n",
    "                               u\"\\ufe0f\"  # dingbats\n",
    "                               u\"\\u3030\"\n",
    "                               \"]+\", flags = re.UNICODE)\n",
    "    return emoji_pattern.sub(r'', string)"
   ]
  },
  {
   "cell_type": "code",
   "execution_count": 26,
   "metadata": {},
   "outputs": [
    {
     "name": "stdout",
     "output_type": "stream",
     "text": [
      "      aber  able  abo  aboard  abort  absence  absolute  absolutely  absorb  \\\n",
      "0        0     0    0       0      0        0         0           0       0   \n",
      "1        0     0    0       0      0        0         0           0       0   \n",
      "2        0     0    0       0      0        0         0           0       0   \n",
      "3        0     0    0       0      0        0         0           0       0   \n",
      "4        0     0    0       0      0        0         0           0       0   \n",
      "...    ...   ...  ...     ...    ...      ...       ...         ...     ...   \n",
      "1994     0     0    0       0      0        0         0           0       0   \n",
      "1995     0     0    0       0      0        0         0           0       0   \n",
      "1996     0     0    0       0      0        0         0           0       0   \n",
      "1997     0     0    0       0      0        0         0           0       0   \n",
      "1998     0     0    0       0      0        0         0           0       0   \n",
      "\n",
      "      absorption  ...  zikryzamir  zip  zogfotpik  zon  zone  zshauladventure  \\\n",
      "0              0  ...           0    0          0    0     0                0   \n",
      "1              0  ...           0    0          0    0     0                0   \n",
      "2              0  ...           0    0          0    0     0                0   \n",
      "3              0  ...           0    0          0    0     0                0   \n",
      "4              0  ...           0    0          0    0     0                0   \n",
      "...          ...  ...         ...  ...        ...  ...   ...              ...   \n",
      "1994           0  ...           0    0          0    0     0                0   \n",
      "1995           0  ...           0    0          0    0     0                0   \n",
      "1996           0  ...           0    0          0    0     0                0   \n",
      "1997           0  ...           0    0          0    0     0                0   \n",
      "1998           0  ...           0    0          0    0     0                0   \n",
      "\n",
      "      zubinanary  zwiebelbach  zzcool  ðogecoin  \n",
      "0              0            0       0         0  \n",
      "1              0            0       0         0  \n",
      "2              0            0       0         0  \n",
      "3              0            0       0         0  \n",
      "4              0            0       0         0  \n",
      "...          ...          ...     ...       ...  \n",
      "1994           0            0       0         0  \n",
      "1995           0            0       0         0  \n",
      "1996           0            0       0         0  \n",
      "1997           0            0       0         0  \n",
      "1998           0            0       0         0  \n",
      "\n",
      "[1999 rows x 4969 columns]\n"
     ]
    }
   ],
   "source": [
    "from sklearn.feature_extraction.text import CountVectorizer\n",
    "\n",
    "vec = CountVectorizer()\n",
    "X = vec.fit_transform(tweets[\"Tweets\"])\n",
    "df = pd.DataFrame(X.toarray(), columns = vec.get_feature_names())\n",
    "print(df)"
   ]
  },
  {
   "cell_type": "code",
   "execution_count": 27,
   "metadata": {},
   "outputs": [
    {
     "name": "stdout",
     "output_type": "stream",
     "text": [
      "  (0, 113)\t0.6623688405640785\n",
      "  (0, 2687)\t0.7491778954626188\n",
      "  (1, 4547)\t0.3503086432516702\n",
      "  (1, 3152)\t0.39490911009737484\n",
      "  (1, 1652)\t0.4162521748644735\n",
      "  (1, 890)\t0.35842289988597426\n",
      "  (1, 4524)\t0.4162521748644735\n",
      "  (1, 3622)\t0.4162521748644735\n",
      "  (1, 2420)\t0.2703073340188711\n",
      "  (2, 2537)\t0.5043290017718325\n",
      "  (2, 1583)\t0.3080284702583498\n",
      "  (2, 4133)\t0.5704255952716918\n",
      "  (2, 2609)\t0.5704255952716918\n",
      "  (3, 4650)\t0.6108339384056402\n",
      "  (3, 1050)\t0.5037497388423235\n",
      "  (3, 1602)\t0.6108339384056402\n",
      "  (4, 1244)\t0.2876711653018475\n",
      "  (4, 3151)\t0.27277696499630993\n",
      "  (4, 4936)\t0.24937628204523501\n",
      "  (4, 2708)\t0.32114907525749786\n",
      "  (4, 1272)\t0.4094092137495757\n",
      "  (4, 141)\t0.3260835812455286\n",
      "  (4, 652)\t0.3525306208428504\n",
      "  (4, 4360)\t0.1828625922881543\n",
      "  (4, 775)\t0.3260835812455286\n",
      "  :\t:\n",
      "  (1994, 147)\t0.13917721113851475\n",
      "  (1994, 4555)\t0.2117618765707303\n",
      "  (1994, 1395)\t0.16274369098951297\n",
      "  (1995, 21)\t0.4008409077440879\n",
      "  (1995, 688)\t0.4008409077440879\n",
      "  (1995, 4355)\t0.36570555829866774\n",
      "  (1995, 764)\t0.38028804586878323\n",
      "  (1995, 3471)\t0.19163813971201343\n",
      "  (1995, 2881)\t0.2477367953352403\n",
      "  (1995, 4700)\t0.32459983454805835\n",
      "  (1995, 4266)\t0.24415721949531063\n",
      "  (1995, 3636)\t0.3305702088532475\n",
      "  (1995, 147)\t0.16715388239496326\n",
      "  (1996, 1497)\t0.5802574365186154\n",
      "  (1996, 3835)\t0.5802574365186154\n",
      "  (1996, 4370)\t0.4996431625735496\n",
      "  (1996, 3471)\t0.27741543724744566\n",
      "  (1997, 131)\t0.5514392497522959\n",
      "  (1997, 1101)\t0.5231645539470053\n",
      "  (1997, 3471)\t0.26363774241871146\n",
      "  (1997, 1100)\t0.48754265003294994\n",
      "  (1997, 4629)\t0.33913258247663197\n",
      "  (1998, 282)\t0.6230966871687438\n",
      "  (1998, 4690)\t0.5530599056338006\n",
      "  (1998, 3537)\t0.5530599056338006\n"
     ]
    }
   ],
   "source": [
    "from sklearn.feature_extraction.text import TfidfVectorizer\n",
    "tfidf = TfidfVectorizer()\n",
    "TFIDF=tfidf.fit_transform(tweets[\"Tweets\"])\n",
    "print(TFIDF)"
   ]
  },
  {
   "cell_type": "code",
   "execution_count": null,
   "metadata": {},
   "outputs": [],
   "source": [
    "Review_wordcloud = ' '.join(tweets[\"Tweets\"])\n",
    "Q_wordcloud = WordCloud(background_color = 'black',\n",
    "                        width = 2000,\n",
    "                        height = 2000\n",
    "                       ).generate(Review_wordcloud)\n",
    "fig = plt.figure(figsize = (10,10))\n",
    "plt.axis('on')\n",
    "plt.imshow(Q_wordcloud)"
   ]
  },
  {
   "cell_type": "code",
   "execution_count": null,
   "metadata": {},
   "outputs": [],
   "source": [
    "freq = pd.Series(' '.join(tweets[\"Tweets\"]).split()).value_counts()[0:20]\n",
    "freq"
   ]
  },
  {
   "cell_type": "code",
   "execution_count": null,
   "metadata": {},
   "outputs": [],
   "source": [
    "import collections\n",
    "from collections import Counter\n",
    "import nltk\n",
    "nltk.download('punkt')"
   ]
  },
  {
   "cell_type": "code",
   "execution_count": null,
   "metadata": {},
   "outputs": [],
   "source": [
    "from textblob import TextBlob\n",
    "tweets['Polarity']=tweets[\"Tweets\"].apply(lambda x: TextBlob(x).sentiment[0])\n",
    "tweets[['Tweets','Polarity']].head(5)"
   ]
  },
  {
   "cell_type": "code",
   "execution_count": null,
   "metadata": {},
   "outputs": [],
   "source": [
    "# Displaying top 5 positive posts of Category_A\n",
    "tweets[tweets.Polarity>0].head(5)"
   ]
  },
  {
   "cell_type": "code",
   "execution_count": null,
   "metadata": {},
   "outputs": [],
   "source": [
    "tweets = tweets.drop(['Text'], axis = 1)\n",
    "tweets"
   ]
  },
  {
   "cell_type": "code",
   "execution_count": null,
   "metadata": {},
   "outputs": [],
   "source": [
    "def sent_type(Tweets):\n",
    "    for i in (Tweets):\n",
    "        if i>0:\n",
    "             print('positive')\n",
    "        elif i ==0:\n",
    "            print('neutral')\n",
    "        else:\n",
    "            print('negative')"
   ]
  },
  {
   "cell_type": "code",
   "execution_count": null,
   "metadata": {},
   "outputs": [],
   "source": [
    "sent_type(tweets['Polarity'])"
   ]
  },
  {
   "cell_type": "code",
   "execution_count": null,
   "metadata": {},
   "outputs": [],
   "source": [
    "tweets[\"category\"] = tweets[\"Polarity\"]\n",
    "\n",
    "tweets.loc[tweets.category > 0, 'category'] = \"Positive\"\n",
    "tweets.loc[tweets.category != 'Positive','category'] = \"Negative\"\n",
    "\n",
    "tweets[\"category\"]=tweets[\"category\"].astype('category')\n",
    "tweets.dtypes"
   ]
  },
  {
   "cell_type": "code",
   "execution_count": null,
   "metadata": {},
   "outputs": [],
   "source": [
    "sns.countplot(x='category',data=tweets,palette='hls')"
   ]
  },
  {
   "cell_type": "code",
   "execution_count": null,
   "metadata": {},
   "outputs": [],
   "source": [
    "tweets.category.value_counts(normalize=True).mul(100)"
   ]
  },
  {
   "cell_type": "code",
   "execution_count": null,
   "metadata": {},
   "outputs": [],
   "source": [
    "positive_reviews = tweets[tweets.category == 'Positive']\n",
    "negative_reviews = tweets[tweets.category == 'Negative']\n",
    "positive_reviews_text = \" \".join(positive_reviews.Tweets.to_numpy().tolist())\n",
    "negative_reviews_text = \" \".join(negative_reviews.Tweets.to_numpy().tolist())\n",
    "positive_reviews_cloud = WordCloud(background_color='black', max_words=250).generate(positive_reviews_text)\n",
    "negative_reviews_cloud = WordCloud(background_color='black', max_words=250).generate(positive_reviews_text)\n",
    "plt.imshow(positive_reviews_cloud, interpolation='bilinear')\n",
    "plt.axis(\"off\")\n",
    "plt.margins(x=0, y=0)\n",
    "plt.show()\n",
    "plt.imshow(negative_reviews_cloud, interpolation = 'bilinear')\n",
    "plt.axis(\"off\")\n",
    "plt.margins(x=0, y=0)\n",
    "plt.show()"
   ]
  },
  {
   "cell_type": "markdown",
   "metadata": {},
   "source": [
    "# Conclusion:-\n",
    "###             We have created work cloud on he is used in his twitt vary frequently that words are amp,great,tesla,spacex and according to sentiment probability the used 58% negative word & 42% positive word."
   ]
  },
  {
   "cell_type": "code",
   "execution_count": null,
   "metadata": {},
   "outputs": [],
   "source": []
  }
 ],
 "metadata": {
  "kernelspec": {
   "display_name": "Python 3",
   "language": "python",
   "name": "python3"
  },
  "language_info": {
   "codemirror_mode": {
    "name": "ipython",
    "version": 3
   },
   "file_extension": ".py",
   "mimetype": "text/x-python",
   "name": "python",
   "nbconvert_exporter": "python",
   "pygments_lexer": "ipython3",
   "version": "3.8.5"
  }
 },
 "nbformat": 4,
 "nbformat_minor": 4
}
